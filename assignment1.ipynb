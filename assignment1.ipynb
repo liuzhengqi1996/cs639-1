{
 "cells": [
  {
   "cell_type": "markdown",
   "metadata": {},
   "source": [
    "# Programming Assignment 1: Sentiment Analysis of Twitter Data\n",
    "\n",
    "Twitter has emerged as a fundamentally new instrument to obtain social measurements. For example, researchers have shown that the \"mood\" of communication on twitter can be used to predict the stock market. \n",
    "\n",
    "In this programming assignment you will:\n",
    "\n",
    "* Load and prepare a collected set of twitter data for analysis\n",
    "* You will estimate the sentiment associated with individual tweets\n",
    "* You will estimate the sentiment of a particular term\n",
    "\n",
    "Please keep in mind the following points:\n",
    "* This assignment is open-ended in several ways. You will need to make some decisions about how to best solve each of the problems mentioned above.\n",
    "* **It is absolutely fine to discuss your solutions with your classmates (either in person or in Piazza) but you are not allowed to share code.**\n",
    "* **Each student must submit their own solution via CANVAS.**\n",
    "* You will have unlimited number of uploads to CANVAS."
   ]
  },
  {
   "cell_type": "markdown",
   "metadata": {},
   "source": [
    "## Formatting of Twitter Data\n",
    "\n",
    "Strings in the twitter data prefixed with the letter \"u\" are unicode strings. For example: `u\"This is a string\"`.\n",
    "\n",
    "Unicode is a standard for representing a mach larger variety of characters beyond the roma alphabet (greek, russian, mathematical symbols, logograms from non-phonetic writing systems, etc.).\n",
    "\n",
    "In most circumstances, you will be able to use a unicode object just like a string.\n",
    "\n",
    "If you encounter an error involving printing unicode, you can use the [encode](https://docs.python.org/3/library/stdtypes.html#str.encode) method to properly print the international characters. You can find more information about UNICODE and Python 3 [here](https://docs.python.org/3/howto/unicode.html)."
   ]
  },
  {
   "cell_type": "markdown",
   "metadata": {},
   "source": [
    "# Question 1: Loading and Cleaning Twitter Data [20 points]\n",
    "\n",
    "In this first part, you will neeed to load a sample of tweets in memory and prepare them for analysis. The tweets are stored in the file `tweets.json`. This file follows the *JSON* format. JSON stands for JavaScript Object Notation. It is a simple format for representing nested structres of data --- lists of lists of dictionaries of lists of ... you get the idea.\n",
    "\n",
    "Each line in of `tweets.json` represents a message. It is straightforward to convert a JSON string into a Python data structure; there is a library to do so called `json`. Below we will show you how to load the data and how to parse the first line in the `tweets.json` file."
   ]
  },
  {
   "cell_type": "code",
   "execution_count": 1,
   "metadata": {},
   "outputs": [
    {
     "name": "stdout",
     "output_type": "stream",
     "text": [
      "{u'delete': {u'status': {u'user_id_str': u'3061937538', u'user_id': 3061937538, u'id': 616962824619687936, u'id_str': u'616962824619687936'}, u'timestamp_ms': u'1439761273410'}}\n",
      "{u'contributors': None, u'truncated': False, u'text': u'\\u0627\\u064a\\u0647 \\u0627\\u0644\\u0623\\u0643\\u0644 \\U0001f61c', u'in_reply_to_status_id': None, u'id': 633030779619012608, u'favorite_count': 0, u'source': u'<a href=\"http://twitter.com/download/iphone\" rel=\"nofollow\">Twitter for iPhone</a>', u'retweeted': False, u'coordinates': None, u'timestamp_ms': u'1439761273661', u'entities': {u'user_mentions': [], u'symbols': [], u'trends': [], u'hashtags': [], u'urls': []}, u'in_reply_to_screen_name': None, u'id_str': u'633030779619012608', u'retweet_count': 0, u'in_reply_to_user_id': None, u'favorited': False, u'user': {u'follow_request_sent': None, u'profile_use_background_image': True, u'default_profile_image': False, u'id': 1305908600, u'verified': False, u'profile_image_url_https': u'https://pbs.twimg.com/profile_images/615338552402948097/k0eOXDro_normal.jpg', u'profile_sidebar_fill_color': u'DDEEF6', u'profile_text_color': u'333333', u'followers_count': 18816, u'profile_sidebar_border_color': u'FFFFFF', u'id_str': u'1305908600', u'profile_background_color': u'C0DEED', u'listed_count': 25, u'profile_background_image_url_https': u'https://abs.twimg.com/images/themes/theme1/bg.png', u'utc_offset': 10800, u'statuses_count': 133539, u'description': u'\\u0639\\u0634\\u062a \\u0645\\u062f\\u0644\\u064f\\u0644\\u064f\\u0629\\u0651 \\u06c6\\u0644\\u0627\\u0623\\u0634\\u0628\\u06c1 \\u0623\\u062d\\u064d\\u062f \\u0641\\u0642\\u0637 \\u0644\\u0627\\u0623\\u0646\\u0646\\u064a \\u0623\\u0628\\u0652\\u0646\\u0652\\u062a\\u064c\\u06c1 \\u0631\\u0628\\u0637 \\u0625\\u0633\\u0645\\u064a \\u0628 #\\u0634\\u062e\\u0635\\u064a\\u0647_\\u062f\\u0628\\u0644\\u0648\\u0645\\u0627\\u0633\\u064a\\u0629..........\\u0648\\u064a\\u0646\\u0650 \\u0628\\u0643\\u0648\\u0646 \\u0623\\u0646\\u0627 \\u0628\\u064b\\u0623\\u062d\\u064b\\u0644\\u064e\\u0622\\u0645\\u064b\\u06a9\\u0652 \\u0637\\u0628\\u0639\\u0622\\u30c4', u'friends_count': 7559, u'location': u'', u'profile_link_color': u'0084B4', u'profile_image_url': u'http://pbs.twimg.com/profile_images/615338552402948097/k0eOXDro_normal.jpg', u'following': None, u'geo_enabled': False, u'profile_banner_url': u'https://pbs.twimg.com/profile_banners/1305908600/1433459409', u'profile_background_image_url': u'http://abs.twimg.com/images/themes/theme1/bg.png', u'name': u'\\u0634\\u062e\\u0635\\u064a\\u0647 \\u062f\\u0628\\u0644\\u0648\\u0650\\u0645\\u0627\\u0633\\u064a\\u0651\\u0629.!\\u0651', u'lang': u'ar', u'profile_background_tile': True, u'favourites_count': 14468, u'screen_name': u'snoow3333', u'notifications': None, u'url': None, u'created_at': u'Tue Mar 26 23:22:14 +0000 2013', u'contributors_enabled': False, u'time_zone': u'Nairobi', u'protected': False, u'default_profile': False, u'is_translator': False}, u'geo': None, u'in_reply_to_user_id_str': None, u'possibly_sensitive': False, u'lang': u'ar', u'created_at': u'Sun Aug 16 21:41:13 +0000 2015', u'filter_level': u'low', u'in_reply_to_status_id_str': None, u'place': None}\n",
      "{u'contributors': None, u'truncated': False, u'text': u'RT @nitishuna: @LasVegasChicas @I_luv_reds @DimondLadies @SiliconEros @herby2121 @hughcox69 @VxExx @Swt_Red @tthumb9090 @raggdoll_98 http:/\\u2026', u'in_reply_to_status_id': None, u'id': 633030779610664960, u'favorite_count': 0, u'source': u'<a href=\"http://twitter.com/download/iphone\" rel=\"nofollow\">Twitter for iPhone</a>', u'retweeted': False, u'coordinates': None, u'timestamp_ms': u'1439761273659', u'entities': {u'symbols': [], u'media': [{u'source_status_id_str': u'632984680887812096', u'expanded_url': u'http://twitter.com/nitishuna/status/632984680887812096/photo/1', u'display_url': u'pic.twitter.com/IdjGgfgncz', u'url': u'http://t.co/IdjGgfgncz', u'media_url_https': u'https://pbs.twimg.com/media/CMjQMLSUAAAfMUW.jpg', u'source_status_id': 632984680887812096, u'id_str': u'632984655252160512', u'sizes': {u'large': {u'h': 750, u'resize': u'fit', u'w': 500}, u'small': {u'h': 510, u'resize': u'fit', u'w': 340}, u'medium': {u'h': 750, u'resize': u'fit', u'w': 500}, u'thumb': {u'h': 150, u'resize': u'crop', u'w': 150}}, u'indices': [139, 140], u'type': u'photo', u'id': 632984655252160512, u'media_url': u'http://pbs.twimg.com/media/CMjQMLSUAAAfMUW.jpg'}], u'hashtags': [], u'user_mentions': [{u'id': 445865965, u'indices': [3, 13], u'id_str': u'445865965', u'screen_name': u'nitishuna', u'name': u'Just4fun'}, {u'id': 737103644, u'indices': [15, 30], u'id_str': u'737103644', u'screen_name': u'LasVegasChicas', u'name': u'What Happens n Vegas'}, {u'id': 718927286, u'indices': [31, 42], u'id_str': u'718927286', u'screen_name': u'I_luv_reds', u'name': u'I_luv_reds'}, {u'id': 2714436740, u'indices': [43, 56], u'id_str': u'2714436740', u'screen_name': u'DimondLadies', u'name': u'\\u2b50Dimond Ladies\\u2b50'}, {u'id': 2848949950, u'indices': [57, 69], u'id_str': u'2848949950', u'screen_name': u'SiliconEros', u'name': u'Silicon Eros'}, {u'id': 2274691870, u'indices': [70, 80], u'id_str': u'2274691870', u'screen_name': u'herby2121', u'name': u'\\u2606 herby2121 \\u260686K '}, {u'id': 2767126967, u'indices': [81, 91], u'id_str': u'2767126967', u'screen_name': u'hughcox69', u'name': u'\\u144e\\u144c\\u15eaE \\u146d\\u157cOTOG\\u1587\\u15e9\\u146d\\u157cY 82k'}, {u'id': 3229432811, u'indices': [92, 98], u'id_str': u'3229432811', u'screen_name': u'VxExx', u'name': u'#VenusExchange\\u260043K\\u2600'}, {u'id': 3087022267, u'indices': [99, 107], u'id_str': u'3087022267', u'screen_name': u'Swt_Red', u'name': u'\\u2728 Sweet Red \\u2728'}, {u'id': 2665853560, u'indices': [108, 119], u'id_str': u'2665853560', u'screen_name': u'tthumb9090', u'name': u'Mr Tasty \\u267b69K\\u267b'}, {u'id': 352691921, u'indices': [120, 132], u'id_str': u'352691921', u'screen_name': u'raggdoll_98', u'name': u'His Girl '}], u'trends': [], u'urls': []}, u'in_reply_to_screen_name': None, u'id_str': u'633030779610664960', u'retweet_count': 0, u'in_reply_to_user_id': None, u'favorited': False, u'retweeted_status': {u'contributors': None, u'truncated': False, u'text': u'@LasVegasChicas @I_luv_reds @DimondLadies @SiliconEros @herby2121 @hughcox69 @VxExx @Swt_Red @tthumb9090 @raggdoll_98 http://t.co/IdjGgfgncz', u'in_reply_to_status_id': 632982908068864000, u'id': 632984680887812096, u'favorite_count': 25, u'source': u'<a href=\"http://twitter.com/download/iphone\" rel=\"nofollow\">Twitter for iPhone</a>', u'retweeted': False, u'coordinates': None, u'entities': {u'symbols': [], u'media': [{u'expanded_url': u'http://twitter.com/nitishuna/status/632984680887812096/photo/1', u'display_url': u'pic.twitter.com/IdjGgfgncz', u'url': u'http://t.co/IdjGgfgncz', u'media_url_https': u'https://pbs.twimg.com/media/CMjQMLSUAAAfMUW.jpg', u'id_str': u'632984655252160512', u'sizes': {u'large': {u'h': 750, u'resize': u'fit', u'w': 500}, u'small': {u'h': 510, u'resize': u'fit', u'w': 340}, u'medium': {u'h': 750, u'resize': u'fit', u'w': 500}, u'thumb': {u'h': 150, u'resize': u'crop', u'w': 150}}, u'indices': [118, 140], u'type': u'photo', u'id': 632984655252160512, u'media_url': u'http://pbs.twimg.com/media/CMjQMLSUAAAfMUW.jpg'}], u'hashtags': [], u'user_mentions': [{u'id': 737103644, u'indices': [0, 15], u'id_str': u'737103644', u'screen_name': u'LasVegasChicas', u'name': u'What Happens n Vegas'}, {u'id': 718927286, u'indices': [16, 27], u'id_str': u'718927286', u'screen_name': u'I_luv_reds', u'name': u'I_luv_reds'}, {u'id': 2714436740, u'indices': [28, 41], u'id_str': u'2714436740', u'screen_name': u'DimondLadies', u'name': u'\\u2b50Dimond Ladies\\u2b50'}, {u'id': 2848949950, u'indices': [42, 54], u'id_str': u'2848949950', u'screen_name': u'SiliconEros', u'name': u'Silicon Eros'}, {u'id': 2274691870, u'indices': [55, 65], u'id_str': u'2274691870', u'screen_name': u'herby2121', u'name': u'\\u2606 herby2121 \\u260686K '}, {u'id': 2767126967, u'indices': [66, 76], u'id_str': u'2767126967', u'screen_name': u'hughcox69', u'name': u'\\u144e\\u144c\\u15eaE \\u146d\\u157cOTOG\\u1587\\u15e9\\u146d\\u157cY 82k'}, {u'id': 3229432811, u'indices': [77, 83], u'id_str': u'3229432811', u'screen_name': u'VxExx', u'name': u'#VenusExchange\\u260043K\\u2600'}, {u'id': 3087022267, u'indices': [84, 92], u'id_str': u'3087022267', u'screen_name': u'Swt_Red', u'name': u'\\u2728 Sweet Red \\u2728'}, {u'id': 2665853560, u'indices': [93, 104], u'id_str': u'2665853560', u'screen_name': u'tthumb9090', u'name': u'Mr Tasty \\u267b69K\\u267b'}, {u'id': 352691921, u'indices': [105, 117], u'id_str': u'352691921', u'screen_name': u'raggdoll_98', u'name': u'His Girl '}], u'trends': [], u'urls': []}, u'in_reply_to_screen_name': u'LasVegasChicas', u'id_str': u'632984680887812096', u'retweet_count': 12, u'in_reply_to_user_id': 737103644, u'favorited': False, u'user': {u'follow_request_sent': None, u'profile_use_background_image': True, u'default_profile_image': False, u'id': 445865965, u'verified': False, u'profile_image_url_https': u'https://pbs.twimg.com/profile_images/574313941012115458/vSAmzsWR_normal.jpeg', u'profile_sidebar_fill_color': u'DDEEF6', u'profile_text_color': u'333333', u'followers_count': 15926, u'profile_sidebar_border_color': u'C0DEED', u'id_str': u'445865965', u'profile_background_color': u'C0DEED', u'listed_count': 92, u'profile_background_image_url_https': u'https://abs.twimg.com/images/themes/theme1/bg.png', u'utc_offset': 19800, u'statuses_count': 27017, u'description': u'#RT | I Share What I Find #Beautiful | Nothing better than a touch of fun | No expectations means no disappointments | #Follow @micelle79 @balwinderstyles', u'friends_count': 771, u'location': u'', u'profile_link_color': u'0084B4', u'profile_image_url': u'http://pbs.twimg.com/profile_images/574313941012115458/vSAmzsWR_normal.jpeg', u'following': None, u'geo_enabled': False, u'profile_banner_url': u'https://pbs.twimg.com/profile_banners/445865965/1425762664', u'profile_background_image_url': u'http://abs.twimg.com/images/themes/theme1/bg.png', u'name': u'Just4fun', u'lang': u'en', u'profile_background_tile': False, u'favourites_count': 17683, u'screen_name': u'nitishuna', u'notifications': None, u'url': None, u'created_at': u'Sun Dec 25 00:35:36 +0000 2011', u'contributors_enabled': False, u'time_zone': u'New Delhi', u'protected': False, u'default_profile': True, u'is_translator': False}, u'geo': None, u'in_reply_to_user_id_str': u'737103644', u'possibly_sensitive': False, u'lang': u'und', u'created_at': u'Sun Aug 16 18:38:02 +0000 2015', u'filter_level': u'low', u'in_reply_to_status_id_str': u'632982908068864000', u'place': None, u'extended_entities': {u'media': [{u'expanded_url': u'http://twitter.com/nitishuna/status/632984680887812096/photo/1', u'display_url': u'pic.twitter.com/IdjGgfgncz', u'url': u'http://t.co/IdjGgfgncz', u'media_url_https': u'https://pbs.twimg.com/media/CMjQMLSUAAAfMUW.jpg', u'id_str': u'632984655252160512', u'sizes': {u'large': {u'h': 750, u'resize': u'fit', u'w': 500}, u'small': {u'h': 510, u'resize': u'fit', u'w': 340}, u'medium': {u'h': 750, u'resize': u'fit', u'w': 500}, u'thumb': {u'h': 150, u'resize': u'crop', u'w': 150}}, u'indices': [118, 140], u'type': u'photo', u'id': 632984655252160512, u'media_url': u'http://pbs.twimg.com/media/CMjQMLSUAAAfMUW.jpg'}]}}, u'user': {u'follow_request_sent': None, u'profile_use_background_image': True, u'default_profile_image': False, u'id': 3030384930, u'verified': False, u'profile_image_url_https': u'https://pbs.twimg.com/profile_images/599589162744840192/LxOH63HU_normal.jpg', u'profile_sidebar_fill_color': u'DDEEF6', u'profile_text_color': u'333333', u'followers_count': 2463, u'profile_sidebar_border_color': u'C0DEED', u'id_str': u'3030384930', u'profile_background_color': u'C0DEED', u'listed_count': 19, u'profile_background_image_url_https': u'https://abs.twimg.com/images/themes/theme1/bg.png', u'utc_offset': None, u'statuses_count': 9917, u'description': None, u'friends_count': 566, u'location': u'', u'profile_link_color': u'0084B4', u'profile_image_url': u'http://pbs.twimg.com/profile_images/599589162744840192/LxOH63HU_normal.jpg', u'following': None, u'geo_enabled': True, u'profile_banner_url': u'https://pbs.twimg.com/profile_banners/3030384930/1439232099', u'profile_background_image_url': u'http://abs.twimg.com/images/themes/theme1/bg.png', u'name': u'styles', u'lang': u'en', u'profile_background_tile': False, u'favourites_count': 7829, u'screen_name': u'balwinderstyles', u'notifications': None, u'url': None, u'created_at': u'Thu Feb 19 15:22:15 +0000 2015', u'contributors_enabled': False, u'time_zone': None, u'protected': False, u'default_profile': True, u'is_translator': False}, u'geo': None, u'in_reply_to_user_id_str': None, u'possibly_sensitive': False, u'lang': u'und', u'created_at': u'Sun Aug 16 21:41:13 +0000 2015', u'filter_level': u'low', u'in_reply_to_status_id_str': None, u'place': None, u'extended_entities': {u'media': [{u'source_status_id_str': u'632984680887812096', u'expanded_url': u'http://twitter.com/nitishuna/status/632984680887812096/photo/1', u'display_url': u'pic.twitter.com/IdjGgfgncz', u'url': u'http://t.co/IdjGgfgncz', u'media_url_https': u'https://pbs.twimg.com/media/CMjQMLSUAAAfMUW.jpg', u'source_status_id': 632984680887812096, u'id_str': u'632984655252160512', u'sizes': {u'large': {u'h': 750, u'resize': u'fit', u'w': 500}, u'small': {u'h': 510, u'resize': u'fit', u'w': 340}, u'medium': {u'h': 750, u'resize': u'fit', u'w': 500}, u'thumb': {u'h': 150, u'resize': u'crop', u'w': 150}}, u'indices': [139, 140], u'type': u'photo', u'id': 632984655252160512, u'media_url': u'http://pbs.twimg.com/media/CMjQMLSUAAAfMUW.jpg'}]}}\n",
      "{u'contributors': None, u'truncated': False, u'text': u'\\u0625\\u0646\\u0651 \\u0627\\u0644\\u0639\\u0631\\u0628 \\u0625\\u0630\\u0627 \\u062a\\u063a\\u0644\\u0628\\u0648\\u0627 \\u0639\\u0644\\u0649 \\u0623\\u0648\\u0637\\u0627\\u0646 \\u0623\\u0633\\u0631\\u0639 \\u0625\\u0644\\u064a\\u0647\\u0627 \\u0627\\u0644\\u062e\\u0631\\u0627\\u0628 \\u0648\\u0627\\u0644\\u0633\\u0628\\u0628 \\u0641\\u064a \\u0630\\u0644\\u0643 \\u0623\\u0646\\u0647\\u0627 \\u0623\\u0645\\u0629 \\u0648\\u062d\\u0634\\u064a\\u0629 \\u0628\\u0625\\u0633\\u062a\\u062d\\u0643\\u0627\\u0645 \\u0639\\u0648\\u0627\\u0626\\u062f \\u0627\\u0644\\u062a\\u0648\\u062d\\u0634 \\u0648\\u0623\\u0633\\u0628\\u0627\\u0628\\u0647 \\u0641\\u0635\\u0627\\u0631 \\u0644\\u0647\\u0645 \\u062e\\u0644\\u0642\\u0629 \\u0648\\u062c\\u0628\\u0644\\u0629\\n\\n- \\u0627\\u0628\\u0646 \\u062e\\u0644\\u062f\\u0648\\u0646', u'in_reply_to_status_id': None, u'id': 633030779631566848, u'favorite_count': 0, u'source': u'<a href=\"http://twitter.com/download/iphone\" rel=\"nofollow\">Twitter for iPhone</a>', u'retweeted': False, u'coordinates': None, u'timestamp_ms': u'1439761273664', u'entities': {u'user_mentions': [], u'symbols': [], u'trends': [], u'hashtags': [], u'urls': []}, u'in_reply_to_screen_name': None, u'id_str': u'633030779631566848', u'retweet_count': 0, u'in_reply_to_user_id': None, u'favorited': False, u'user': {u'follow_request_sent': None, u'profile_use_background_image': False, u'default_profile_image': False, u'id': 3110676047, u'verified': False, u'profile_image_url_https': u'https://pbs.twimg.com/profile_images/615442793637347328/bRkcNeZS_normal.png', u'profile_sidebar_fill_color': u'000000', u'profile_text_color': u'000000', u'followers_count': 268, u'profile_sidebar_border_color': u'000000', u'id_str': u'3110676047', u'profile_background_color': u'000000', u'listed_count': 1, u'profile_background_image_url_https': u'https://abs.twimg.com/images/themes/theme1/bg.png', u'utc_offset': -25200, u'statuses_count': 238, u'description': u'\\u0623\\u062c\\u0645\\u0644 \\u0645\\u0627\\u0642\\u0627\\u0644 \\u0627\\u0644\\u062d\\u0643\\u0645\\u0627\\u0621 \\u0639\\u0644\\u0649 \\u0645\\u0631 \\u0627\\u0644\\u0623\\u0632\\u0645\\u0627\\u0646', u'friends_count': 0, u'location': u'', u'profile_link_color': u'9266CC', u'profile_image_url': u'http://pbs.twimg.com/profile_images/615442793637347328/bRkcNeZS_normal.png', u'following': None, u'geo_enabled': False, u'profile_background_image_url': u'http://abs.twimg.com/images/themes/theme1/bg.png', u'name': u'\\u0627\\u0642\\u062a\\u0628\\u0627\\u0633', u'lang': u'en', u'profile_background_tile': False, u'favourites_count': 2, u'screen_name': u'eqtybas', u'notifications': None, u'url': None, u'created_at': u'Tue Mar 24 15:56:17 +0000 2015', u'contributors_enabled': False, u'time_zone': u'Pacific Time (US & Canada)', u'protected': False, u'default_profile': False, u'is_translator': False}, u'geo': None, u'in_reply_to_user_id_str': None, u'possibly_sensitive': False, u'lang': u'ar', u'created_at': u'Sun Aug 16 21:41:13 +0000 2015', u'filter_level': u'low', u'in_reply_to_status_id_str': None, u'place': None}\n",
      "{u'contributors': None, u'truncated': False, u'text': u'RT @moonmona7: \\u0644\\u0646 \\u0627\\u0644\\u0648\\u0645\\u0643 \\u0639\\u0644\\u0649 \\u0631\\u0650\\u062d\\u064a\\u0644\\u0643 ...\\n\\u0641\\u064e\\u0640\\u0642\\u064c\\u0640\\u062f\\u0652 \\u0631\\u0650\\u062d\\u0644\\u062a  \\u0644\\u0623\\u064c\\u0646\\u0640\\u064e\\u064a \\u0652 \\u0627\\u064e\\u0634\\u064c\\u0640\\u0628\\u064e\\u0640\\u0639\\u0640\\u062a\\u0643 \\u064c \\u062d\\u0628\\u0622 \\u062d\\u0640\\u062a\\u0649  \\u0623\\u0643\\u062a\\u0641\\u064a\\u062a. .. http://t.co/ceD9aTiFfI', u'in_reply_to_status_id': None, u'id': 633030779606466560, u'favorite_count': 0, u'source': u'<a href=\"http://twitter.com/download/iphone\" rel=\"nofollow\">Twitter for iPhone</a>', u'retweeted': False, u'coordinates': None, u'timestamp_ms': u'1439761273658', u'entities': {u'symbols': [], u'media': [{u'source_status_id_str': u'632945185866018817', u'expanded_url': u'http://twitter.com/moonmona7/status/632945185866018817/photo/1', u'display_url': u'pic.twitter.com/ceD9aTiFfI', u'url': u'http://t.co/ceD9aTiFfI', u'media_url_https': u'https://pbs.twimg.com/media/CMisSqTWwAARmiH.jpg', u'source_status_id': 632945185866018817, u'id_str': u'632945184238649344', u'sizes': {u'large': {u'h': 442, u'resize': u'fit', u'w': 442}, u'small': {u'h': 340, u'resize': u'fit', u'w': 340}, u'medium': {u'h': 442, u'resize': u'fit', u'w': 442}, u'thumb': {u'h': 150, u'resize': u'crop', u'w': 150}}, u'indices': [101, 123], u'type': u'photo', u'id': 632945184238649344, u'media_url': u'http://pbs.twimg.com/media/CMisSqTWwAARmiH.jpg'}], u'hashtags': [], u'user_mentions': [{u'id': 196273015, u'indices': [3, 13], u'id_str': u'196273015', u'screen_name': u'moonmona7', u'name': u'\\u0645\\u0646\\u0640\\u0640\\u0640\\u0640\\u0640\\u0640\\u0649 \\u0627\\u0644\\u0647\\u0627\\u0634\\u0645\\u064a'}], u'trends': [], u'urls': []}, u'in_reply_to_screen_name': None, u'id_str': u'633030779606466560', u'retweet_count': 0, u'in_reply_to_user_id': None, u'favorited': False, u'retweeted_status': {u'contributors': None, u'truncated': False, u'text': u'\\u0644\\u0646 \\u0627\\u0644\\u0648\\u0645\\u0643 \\u0639\\u0644\\u0649 \\u0631\\u0650\\u062d\\u064a\\u0644\\u0643 ...\\n\\u0641\\u064e\\u0640\\u0642\\u064c\\u0640\\u062f\\u0652 \\u0631\\u0650\\u062d\\u0644\\u062a  \\u0644\\u0623\\u064c\\u0646\\u0640\\u064e\\u064a \\u0652 \\u0627\\u064e\\u0634\\u064c\\u0640\\u0628\\u064e\\u0640\\u0639\\u0640\\u062a\\u0643 \\u064c \\u062d\\u0628\\u0622 \\u062d\\u0640\\u062a\\u0649  \\u0623\\u0643\\u062a\\u0641\\u064a\\u062a. .. http://t.co/ceD9aTiFfI', u'in_reply_to_status_id': None, u'id': 632945185866018817, u'favorite_count': 13, u'source': u'<a href=\"http://twitter.com/download/android\" rel=\"nofollow\">Twitter for Android</a>', u'retweeted': False, u'coordinates': None, u'entities': {u'symbols': [], u'media': [{u'expanded_url': u'http://twitter.com/moonmona7/status/632945185866018817/photo/1', u'display_url': u'pic.twitter.com/ceD9aTiFfI', u'url': u'http://t.co/ceD9aTiFfI', u'media_url_https': u'https://pbs.twimg.com/media/CMisSqTWwAARmiH.jpg', u'id_str': u'632945184238649344', u'sizes': {u'large': {u'h': 442, u'resize': u'fit', u'w': 442}, u'small': {u'h': 340, u'resize': u'fit', u'w': 340}, u'medium': {u'h': 442, u'resize': u'fit', u'w': 442}, u'thumb': {u'h': 150, u'resize': u'crop', u'w': 150}}, u'indices': [86, 108], u'type': u'photo', u'id': 632945184238649344, u'media_url': u'http://pbs.twimg.com/media/CMisSqTWwAARmiH.jpg'}], u'hashtags': [], u'user_mentions': [], u'trends': [], u'urls': []}, u'in_reply_to_screen_name': None, u'id_str': u'632945185866018817', u'retweet_count': 15, u'in_reply_to_user_id': None, u'favorited': False, u'user': {u'follow_request_sent': None, u'profile_use_background_image': True, u'default_profile_image': False, u'id': 196273015, u'verified': False, u'profile_image_url_https': u'https://pbs.twimg.com/profile_images/548572098344398848/7sErNY7Y_normal.jpeg', u'profile_sidebar_fill_color': u'DDEEF6', u'profile_text_color': u'333333', u'followers_count': 135426, u'profile_sidebar_border_color': u'C0DEED', u'id_str': u'196273015', u'profile_background_color': u'C0DEED', u'listed_count': 117, u'profile_background_image_url_https': u'https://abs.twimg.com/images/themes/theme1/bg.png', u'utc_offset': 14400, u'statuses_count': 11768, u'description': u'\\u200f\\u200f\\u200f\\u200f\\u200f\\u200f\\u200f\\u200f\\u200f\\u200f\\u200f\\u200f\\u200f\\u200f\\u200f\\u200f\\u200f\\u200f\\u200f\\u200f\\u200f\\u200f\\u200f\\u0623\\u062c\\u0645\\u0644 \\u062d\\u0628 \\u0641\\u064a \\u0627\\u0644\\u0648\\u062c\\u0648\\u062f \\u062d\\u0628 ( \\u0627\\u0644\\u0644\\u0647 ) ... \\u0627\\u0644\\u062e\\u0627\\u0635 \\u0645\\u0645\\u0646\\u0648\\u0639 -( \\u0645\\u0627 \\u064a\\u0646\\u0628\\u0636 \\u0628\\u0647 \\u0642\\u0644\\u0628\\u064a \\u062a\\u062c\\u0633\\u062f\\u0647 \\u062d\\u0631\\u0648\\u0641\\u064a - \\u0648\\u0645\\u0627 \\u064a\\u0631\\u0648\\u0642 \\u0644\\u064a \\u0623\\u0642\\u062a\\u0628\\u0633\\u0647 \\u0647\\u0646\\u0627 )', u'friends_count': 113260, u'location': u'\\u0627\\u0628\\u0648\\u0638\\u0628\\u064a_\\u2764_abudhabi   #UAE', u'profile_link_color': u'0084B4', u'profile_image_url': u'http://pbs.twimg.com/profile_images/548572098344398848/7sErNY7Y_normal.jpeg', u'following': None, u'geo_enabled': True, u'profile_banner_url': u'https://pbs.twimg.com/profile_banners/196273015/1439723717', u'profile_background_image_url': u'http://abs.twimg.com/images/themes/theme1/bg.png', u'name': u'\\u0645\\u0646\\u0640\\u0640\\u0640\\u0640\\u0640\\u0640\\u0649 \\u0627\\u0644\\u0647\\u0627\\u0634\\u0645\\u064a', u'lang': u'ar', u'profile_background_tile': False, u'favourites_count': 6808, u'screen_name': u'moonmona7', u'notifications': None, u'url': None, u'created_at': u'Tue Sep 28 18:52:17 +0000 2010', u'contributors_enabled': False, u'time_zone': u'Abu Dhabi', u'protected': False, u'default_profile': True, u'is_translator': False}, u'geo': None, u'in_reply_to_user_id_str': None, u'possibly_sensitive': False, u'lang': u'ar', u'created_at': u'Sun Aug 16 16:01:06 +0000 2015', u'filter_level': u'low', u'in_reply_to_status_id_str': None, u'place': None, u'extended_entities': {u'media': [{u'expanded_url': u'http://twitter.com/moonmona7/status/632945185866018817/photo/1', u'display_url': u'pic.twitter.com/ceD9aTiFfI', u'url': u'http://t.co/ceD9aTiFfI', u'media_url_https': u'https://pbs.twimg.com/media/CMisSqTWwAARmiH.jpg', u'id_str': u'632945184238649344', u'sizes': {u'large': {u'h': 442, u'resize': u'fit', u'w': 442}, u'small': {u'h': 340, u'resize': u'fit', u'w': 340}, u'medium': {u'h': 442, u'resize': u'fit', u'w': 442}, u'thumb': {u'h': 150, u'resize': u'crop', u'w': 150}}, u'indices': [86, 108], u'type': u'photo', u'id': 632945184238649344, u'media_url': u'http://pbs.twimg.com/media/CMisSqTWwAARmiH.jpg'}]}}, u'user': {u'follow_request_sent': None, u'profile_use_background_image': True, u'default_profile_image': False, u'id': 586818520, u'verified': False, u'profile_image_url_https': u'https://pbs.twimg.com/profile_images/512611052958138368/IZvuvMgu_normal.png', u'profile_sidebar_fill_color': u'DDEEF6', u'profile_text_color': u'333333', u'followers_count': 332, u'profile_sidebar_border_color': u'C0DEED', u'id_str': u'586818520', u'profile_background_color': u'C0DEED', u'listed_count': 0, u'profile_background_image_url_https': u'https://abs.twimg.com/images/themes/theme1/bg.png', u'utc_offset': None, u'statuses_count': 1467, u'description': u'http://anaalzeenn.tumblr.com', u'friends_count': 277, u'location': u'\\u200f\\u200b\\u200f\\u200b\\u200f\\u200b\\u200f\\u200b\\u200f\\u200b\\u200f\\u200b\\u200f\\u200b', u'profile_link_color': u'0084B4', u'profile_image_url': u'http://pbs.twimg.com/profile_images/512611052958138368/IZvuvMgu_normal.png', u'following': None, u'geo_enabled': True, u'profile_banner_url': u'https://pbs.twimg.com/profile_banners/586818520/1402684145', u'profile_background_image_url': u'http://abs.twimg.com/images/themes/theme1/bg.png', u'name': u'N.ALSHAHRI', u'lang': u'en', u'profile_background_tile': False, u'favourites_count': 153, u'screen_name': u'Anaalzeenn', u'notifications': None, u'url': None, u'created_at': u'Mon May 21 19:39:58 +0000 2012', u'contributors_enabled': False, u'time_zone': None, u'protected': False, u'default_profile': True, u'is_translator': False}, u'geo': None, u'in_reply_to_user_id_str': None, u'possibly_sensitive': False, u'lang': u'ar', u'created_at': u'Sun Aug 16 21:41:13 +0000 2015', u'filter_level': u'low', u'in_reply_to_status_id_str': None, u'place': None, u'extended_entities': {u'media': [{u'source_status_id_str': u'632945185866018817', u'expanded_url': u'http://twitter.com/moonmona7/status/632945185866018817/photo/1', u'display_url': u'pic.twitter.com/ceD9aTiFfI', u'url': u'http://t.co/ceD9aTiFfI', u'media_url_https': u'https://pbs.twimg.com/media/CMisSqTWwAARmiH.jpg', u'source_status_id': 632945185866018817, u'id_str': u'632945184238649344', u'sizes': {u'large': {u'h': 442, u'resize': u'fit', u'w': 442}, u'small': {u'h': 340, u'resize': u'fit', u'w': 340}, u'medium': {u'h': 442, u'resize': u'fit', u'w': 442}, u'thumb': {u'h': 150, u'resize': u'crop', u'w': 150}}, u'indices': [101, 123], u'type': u'photo', u'id': 632945184238649344, u'media_url': u'http://pbs.twimg.com/media/CMisSqTWwAARmiH.jpg'}]}}\n",
      "{u'contributors': None, u'truncated': False, u'text': u'@16_Pirates any shots?', u'in_reply_to_status_id': 633030587733798912, u'id': 633030779623206912, u'favorite_count': 0, u'source': u'<a href=\"http://twitter.com/download/android\" rel=\"nofollow\">Twitter for Android</a>', u'retweeted': False, u'coordinates': None, u'timestamp_ms': u'1439761273662', u'entities': {u'user_mentions': [{u'id': 542222500, u'indices': [0, 11], u'id_str': u'542222500', u'screen_name': u'16_Pirates', u'name': u'Josh Painton'}], u'symbols': [], u'trends': [], u'hashtags': [], u'urls': []}, u'in_reply_to_screen_name': u'16_Pirates', u'id_str': u'633030779623206912', u'retweet_count': 0, u'in_reply_to_user_id': 542222500, u'favorited': False, u'user': {u'follow_request_sent': None, u'profile_use_background_image': True, u'default_profile_image': False, u'id': 425394759, u'verified': False, u'profile_image_url_https': u'https://pbs.twimg.com/profile_images/622558667557048320/t-18HzWQ_normal.jpg', u'profile_sidebar_fill_color': u'DDEEF6', u'profile_text_color': u'333333', u'followers_count': 321, u'profile_sidebar_border_color': u'C0DEED', u'id_str': u'425394759', u'profile_background_color': u'C0DEED', u'listed_count': 0, u'profile_background_image_url_https': u'https://abs.twimg.com/images/themes/theme1/bg.png', u'utc_offset': None, u'statuses_count': 7013, u'description': u'801 IG & SC: Braydenkade', u'friends_count': 274, u'location': u'', u'profile_link_color': u'0084B4', u'profile_image_url': u'http://pbs.twimg.com/profile_images/622558667557048320/t-18HzWQ_normal.jpg', u'following': None, u'geo_enabled': True, u'profile_banner_url': u'https://pbs.twimg.com/profile_banners/425394759/1402107210', u'profile_background_image_url': u'http://abs.twimg.com/images/themes/theme1/bg.png', u'name': u'Braydoe ', u'lang': u'en', u'profile_background_tile': False, u'favourites_count': 3160, u'screen_name': u'BraydenKade', u'notifications': None, u'url': None, u'created_at': u'Wed Nov 30 23:21:33 +0000 2011', u'contributors_enabled': False, u'time_zone': None, u'protected': False, u'default_profile': True, u'is_translator': False}, u'geo': None, u'in_reply_to_user_id_str': u'542222500', u'possibly_sensitive': False, u'lang': u'en', u'created_at': u'Sun Aug 16 21:41:13 +0000 2015', u'filter_level': u'low', u'in_reply_to_status_id_str': u'633030587733798912', u'place': None}\n",
      "{u'contributors': None, u'truncated': False, u'text': u'RT @Cancer_gk: A #Cancer may act shy and quiet, but will adamantly defend a loved one against outsiders.', u'in_reply_to_status_id': None, u'id': 633030779602243584, u'favorite_count': 0, u'source': u'<a href=\"https://mobile.twitter.com\" rel=\"nofollow\">Mobile Web (M2)</a>', u'retweeted': False, u'coordinates': None, u'timestamp_ms': u'1439761273657', u'entities': {u'user_mentions': [{u'id': 1575097585, u'indices': [3, 13], u'id_str': u'1575097585', u'screen_name': u'Cancer_gk', u'name': u'Cancer Zodiac'}], u'symbols': [], u'trends': [], u'hashtags': [{u'indices': [17, 24], u'text': u'Cancer'}], u'urls': []}, u'in_reply_to_screen_name': None, u'id_str': u'633030779602243584', u'retweet_count': 0, u'in_reply_to_user_id': None, u'favorited': False, u'retweeted_status': {u'contributors': None, u'truncated': False, u'text': u'A #Cancer may act shy and quiet, but will adamantly defend a loved one against outsiders.', u'in_reply_to_status_id': None, u'id': 632371171237888000, u'favorite_count': 123, u'source': u'<a href=\"http://twitter.com\" rel=\"nofollow\">iMTS</a>', u'retweeted': False, u'coordinates': None, u'entities': {u'user_mentions': [], u'symbols': [], u'trends': [], u'hashtags': [{u'indices': [2, 9], u'text': u'Cancer'}], u'urls': []}, u'in_reply_to_screen_name': None, u'id_str': u'632371171237888000', u'retweet_count': 119, u'in_reply_to_user_id': None, u'favorited': False, u'user': {u'follow_request_sent': None, u'profile_use_background_image': True, u'default_profile_image': False, u'id': 1575097585, u'verified': False, u'profile_image_url_https': u'https://pbs.twimg.com/profile_images/571741716420362240/NcZ9I7OO_normal.jpeg', u'profile_sidebar_fill_color': u'E6F6F9', u'profile_text_color': u'333333', u'followers_count': 89117, u'profile_sidebar_border_color': u'DBE9ED', u'id_str': u'1575097585', u'profile_background_color': u'DBE9ED', u'listed_count': 138, u'profile_background_image_url_https': u'https://abs.twimg.com/images/themes/theme17/bg.gif', u'utc_offset': -18000, u'statuses_count': 1718, u'description': u'Not Cancer? Follow your sign - @Aries_gk @Taurus_gk @Gemini__gk @Leo__gk @Virgo_gk @Libra_gk @Scorpio_gk @Sagittarius__gk @Capricorn_gk @Aquarius_gk @Pisces_gk', u'friends_count': 14902, u'location': u'', u'profile_link_color': u'CC3366', u'profile_image_url': u'http://pbs.twimg.com/profile_images/571741716420362240/NcZ9I7OO_normal.jpeg', u'following': None, u'geo_enabled': False, u'profile_banner_url': u'https://pbs.twimg.com/profile_banners/1575097585/1425150179', u'profile_background_image_url': u'http://abs.twimg.com/images/themes/theme17/bg.gif', u'name': u'Cancer Zodiac', u'lang': u'en', u'profile_background_tile': False, u'favourites_count': 0, u'screen_name': u'Cancer_gk', u'notifications': None, u'url': u'http://bit.ly/1e4gJh3', u'created_at': u'Sun Jul 07 12:40:15 +0000 2013', u'contributors_enabled': False, u'time_zone': u'Central Time (US & Canada)', u'protected': False, u'default_profile': False, u'is_translator': False}, u'geo': None, u'in_reply_to_user_id_str': None, u'possibly_sensitive': False, u'lang': u'en', u'created_at': u'Sat Aug 15 02:00:10 +0000 2015', u'filter_level': u'low', u'in_reply_to_status_id_str': None, u'place': None}, u'user': {u'follow_request_sent': None, u'profile_use_background_image': True, u'default_profile_image': False, u'id': 2254825403, u'verified': False, u'profile_image_url_https': u'https://pbs.twimg.com/profile_images/620370354624565248/Cj1XOLNZ_normal.jpg', u'profile_sidebar_fill_color': u'DDEEF6', u'profile_text_color': u'333333', u'followers_count': 13, u'profile_sidebar_border_color': u'C0DEED', u'id_str': u'2254825403', u'profile_background_color': u'C0DEED', u'listed_count': 1, u'profile_background_image_url_https': u'https://abs.twimg.com/images/themes/theme1/bg.png', u'utc_offset': None, u'statuses_count': 202, u'description': u'Life is short. So Smile while you still have Teeth :D', u'friends_count': 76, u'location': u'Khulna,Bangladesh', u'profile_link_color': u'0084B4', u'profile_image_url': u'http://pbs.twimg.com/profile_images/620370354624565248/Cj1XOLNZ_normal.jpg', u'following': None, u'geo_enabled': True, u'profile_background_image_url': u'http://abs.twimg.com/images/themes/theme1/bg.png', u'name': u'Halima', u'lang': u'en', u'profile_background_tile': False, u'favourites_count': 94, u'screen_name': u'Halima1_', u'notifications': None, u'url': u'http://www.wattpad.com/user/IamTheRainbowGirl#', u'created_at': u'Tue Dec 31 18:23:11 +0000 2013', u'contributors_enabled': False, u'time_zone': None, u'protected': False, u'default_profile': True, u'is_translator': False}, u'geo': None, u'in_reply_to_user_id_str': None, u'possibly_sensitive': False, u'lang': u'en', u'created_at': u'Sun Aug 16 21:41:13 +0000 2015', u'filter_level': u'low', u'in_reply_to_status_id_str': None, u'place': None}\n",
      "{u'contributors': None, u'truncated': False, u'text': u'@1voodoochild thanks for the follow\\U0001f4af', u'in_reply_to_status_id': None, u'id': 633030779627433984, u'favorite_count': 0, u'source': u'<a href=\"http://twitter.com/download/iphone\" rel=\"nofollow\">Twitter for iPhone</a>', u'retweeted': False, u'coordinates': None, u'timestamp_ms': u'1439761273663', u'entities': {u'user_mentions': [{u'id': 109383806, u'indices': [0, 13], u'id_str': u'109383806', u'screen_name': u'1voodoochild', u'name': u'TP'}], u'symbols': [], u'trends': [], u'hashtags': [], u'urls': []}, u'in_reply_to_screen_name': u'1voodoochild', u'id_str': u'633030779627433984', u'retweet_count': 0, u'in_reply_to_user_id': 109383806, u'favorited': False, u'user': {u'follow_request_sent': None, u'profile_use_background_image': True, u'default_profile_image': False, u'id': 28041701, u'verified': False, u'profile_image_url_https': u'https://pbs.twimg.com/profile_images/610075330691239937/GhDOO2Ik_normal.jpg', u'profile_sidebar_fill_color': u'DDEEF6', u'profile_text_color': u'333333', u'followers_count': 220, u'profile_sidebar_border_color': u'C0DEED', u'id_str': u'28041701', u'profile_background_color': u'C0DEED', u'listed_count': 0, u'profile_background_image_url_https': u'https://abs.twimg.com/images/themes/theme1/bg.png', u'utc_offset': -18000, u'statuses_count': 257, u'description': u'The soulfully, sizzling styles of Mz. Simona can only be described as: Jazzinique! Her voice will mesmerize and take you on a journey like none other!!', u'friends_count': 292, u'location': u'North Little Rock', u'profile_link_color': u'0084B4', u'profile_image_url': u'http://pbs.twimg.com/profile_images/610075330691239937/GhDOO2Ik_normal.jpg', u'following': None, u'geo_enabled': False, u'profile_banner_url': u'https://pbs.twimg.com/profile_banners/28041701/1435341322', u'profile_background_image_url': u'http://abs.twimg.com/images/themes/theme1/bg.png', u'name': u'Simona Marshall', u'lang': u'en', u'profile_background_tile': False, u'favourites_count': 38, u'screen_name': u'jazzinique2015', u'notifications': None, u'url': None, u'created_at': u'Wed Apr 01 03:31:08 +0000 2009', u'contributors_enabled': False, u'time_zone': u'Central Time (US & Canada)', u'protected': False, u'default_profile': True, u'is_translator': False}, u'geo': None, u'in_reply_to_user_id_str': u'109383806', u'possibly_sensitive': False, u'lang': u'en', u'created_at': u'Sun Aug 16 21:41:13 +0000 2015', u'filter_level': u'low', u'in_reply_to_status_id_str': None, u'place': None}\n",
      "{u'contributors': None, u'truncated': False, u'text': u'\"shitting on otherkin is ablist and transphobic as fuck\" ????', u'in_reply_to_status_id': None, u'id': 633030779640090624, u'favorite_count': 0, u'source': u'<a href=\"http://twitter.com/#!/download/ipad\" rel=\"nofollow\">Twitter for iPad</a>', u'retweeted': False, u'coordinates': None, u'timestamp_ms': u'1439761273666', u'entities': {u'user_mentions': [], u'symbols': [], u'trends': [], u'hashtags': [], u'urls': []}, u'in_reply_to_screen_name': None, u'id_str': u'633030779640090624', u'retweet_count': 0, u'in_reply_to_user_id': None, u'favorited': False, u'user': {u'follow_request_sent': None, u'profile_use_background_image': True, u'default_profile_image': False, u'id': 65100966, u'verified': False, u'profile_image_url_https': u'https://pbs.twimg.com/profile_images/626670411493847040/r5gVjgeQ_normal.png', u'profile_sidebar_fill_color': u'FFFFFF', u'profile_text_color': u'333333', u'followers_count': 213, u'profile_sidebar_border_color': u'EEEEEE', u'id_str': u'65100966', u'profile_background_color': u'B2DFDA', u'listed_count': 11, u'profile_background_image_url_https': u'https://abs.twimg.com/images/themes/theme13/bg.gif', u'utc_offset': -14400, u'statuses_count': 61352, u'description': u'tri-Ace - Tales of - FFXIII - MegaTen - Kamen Rider _(\\xb4\\u0f40`\\u300d\\u2220)_ || Aibou \\u2661 @jelly_995', u'friends_count': 213, u'location': u'', u'profile_link_color': u'93A644', u'profile_image_url': u'http://pbs.twimg.com/profile_images/626670411493847040/r5gVjgeQ_normal.png', u'following': None, u'geo_enabled': False, u'profile_banner_url': u'https://pbs.twimg.com/profile_banners/65100966/1438283440', u'profile_background_image_url': u'http://abs.twimg.com/images/themes/theme13/bg.gif', u'name': u'\\u4eee\\u9762\\u30d0\\u30cb\\u30fc', u'lang': u'en', u'profile_background_tile': False, u'favourites_count': 3020, u'screen_name': u'ComeOnBunny', u'notifications': None, u'url': None, u'created_at': u'Wed Aug 12 17:36:41 +0000 2009', u'contributors_enabled': False, u'time_zone': u'Eastern Time (US & Canada)', u'protected': False, u'default_profile': False, u'is_translator': False}, u'geo': None, u'in_reply_to_user_id_str': None, u'possibly_sensitive': False, u'lang': u'en', u'created_at': u'Sun Aug 16 21:41:13 +0000 2015', u'filter_level': u'low', u'in_reply_to_status_id_str': None, u'place': None}\n",
      "{u'contributors': None, u'truncated': False, u'text': u'112 #MTVHottest Britney Spears', u'in_reply_to_status_id': None, u'id': 633030779623374848, u'favorite_count': 0, u'source': u'<a href=\"https://about.twitter.com/products/tweetdeck\" rel=\"nofollow\">TweetDeck</a>', u'retweeted': False, u'coordinates': None, u'timestamp_ms': u'1439761273662', u'entities': {u'user_mentions': [], u'symbols': [], u'trends': [], u'hashtags': [{u'indices': [4, 15], u'text': u'MTVHottest'}], u'urls': []}, u'in_reply_to_screen_name': None, u'id_str': u'633030779623374848', u'retweet_count': 0, u'in_reply_to_user_id': None, u'favorited': False, u'user': {u'follow_request_sent': None, u'profile_use_background_image': True, u'default_profile_image': True, u'id': 3229201528, u'verified': False, u'profile_image_url_https': u'https://abs.twimg.com/sticky/default_profile_images/default_profile_0_normal.png', u'profile_sidebar_fill_color': u'DDEEF6', u'profile_text_color': u'333333', u'followers_count': 7, u'profile_sidebar_border_color': u'C0DEED', u'id_str': u'3229201528', u'profile_background_color': u'C0DEED', u'listed_count': 1, u'profile_background_image_url_https': u'https://abs.twimg.com/images/themes/theme1/bg.png', u'utc_offset': None, u'statuses_count': 11439, u'description': None, u'friends_count': 16, u'location': u'', u'profile_link_color': u'0084B4', u'profile_image_url': u'http://abs.twimg.com/sticky/default_profile_images/default_profile_0_normal.png', u'following': None, u'geo_enabled': False, u'profile_background_image_url': u'http://abs.twimg.com/images/themes/theme1/bg.png', u'name': u'pam', u'lang': u'pt', u'profile_background_tile': False, u'favourites_count': 4, u'screen_name': u'xspearx330', u'notifications': None, u'url': None, u'created_at': u'Sat May 02 21:40:08 +0000 2015', u'contributors_enabled': False, u'time_zone': None, u'protected': False, u'default_profile': True, u'is_translator': False}, u'geo': None, u'in_reply_to_user_id_str': None, u'possibly_sensitive': False, u'lang': u'en', u'created_at': u'Sun Aug 16 21:41:13 +0000 2015', u'filter_level': u'low', u'in_reply_to_status_id_str': None, u'place': None}\n",
      "{u'contributors': None, u'truncated': False, u'text': u'RT @Gggb769Gggb: \\u0647\\u0646\\u0627\\u0643 \\u0636\\u0631\\u0628\\u0647 \\u0645\\u0648\\u062c\\u0647  \\u0633\\u062a\\u0643\\u0648\\u0646 \\u0641\\u064a \\u0639\\u0645\\u0642 \\u0627\\u0644\\u062e\\u0644\\u064a\\u062c. \\n\\u0633\\u062a\\u063a\\u064a\\u0631 \\u0645\\u062c\\u0631\\u064a\\u0627\\u062a  \\u0627\\u0644\\u0627\\u062d\\u062f\\u0627\\u062b \\n\\u0645\\u0627\\u0639\\u0644\\u064a\\u0643\\u0645 \\u0633\\u0648\\u0627 \\u0627\\u0644\\u0635\\u0628\\u0631 \\u0648\\u0627\\u0644\\u0627\\u0646\\u062a\\u0635\\u0627\\u0631. \\u0648\\u0627\\u0644\\u0627\\u064a\\u0627\\u0645 \\u0628\\u064a\\u0646\\u0646\\u0627 \\u0644\\u0645\\u0646 \\u0633\\u062a\\u0643\\u0648\\u0646 \\u0627\\u0644\\u063a\\u0644\\u0628\\u0647. \\u2026', u'in_reply_to_status_id': None, u'id': 633030779602399232, u'favorite_count': 0, u'source': u'<a href=\"http://twitter.com/download/android\" rel=\"nofollow\">Twitter for Android</a>', u'retweeted': False, u'coordinates': None, u'timestamp_ms': u'1439761273657', u'entities': {u'user_mentions': [{u'id': 3093418073, u'indices': [3, 15], u'id_str': u'3093418073', u'screen_name': u'Gggb769Gggb', u'name': u'\\u0627\\u0644\\u064a\\u0645\\u0646 \\u0641\\u064a \\u0642\\u0644\\u0648\\u0628\\u0646\\u0627'}], u'symbols': [], u'trends': [], u'hashtags': [], u'urls': []}, u'in_reply_to_screen_name': None, u'id_str': u'633030779602399232', u'retweet_count': 0, u'in_reply_to_user_id': None, u'favorited': False, u'retweeted_status': {u'contributors': None, u'truncated': False, u'text': u'\\u0647\\u0646\\u0627\\u0643 \\u0636\\u0631\\u0628\\u0647 \\u0645\\u0648\\u062c\\u0647  \\u0633\\u062a\\u0643\\u0648\\u0646 \\u0641\\u064a \\u0639\\u0645\\u0642 \\u0627\\u0644\\u062e\\u0644\\u064a\\u062c. \\n\\u0633\\u062a\\u063a\\u064a\\u0631 \\u0645\\u062c\\u0631\\u064a\\u0627\\u062a  \\u0627\\u0644\\u0627\\u062d\\u062f\\u0627\\u062b \\n\\u0645\\u0627\\u0639\\u0644\\u064a\\u0643\\u0645 \\u0633\\u0648\\u0627 \\u0627\\u0644\\u0635\\u0628\\u0631 \\u0648\\u0627\\u0644\\u0627\\u0646\\u062a\\u0635\\u0627\\u0631. \\u0648\\u0627\\u0644\\u0627\\u064a\\u0627\\u0645 \\u0628\\u064a\\u0646\\u0646\\u0627 \\u0644\\u0645\\u0646 \\u0633\\u062a\\u0643\\u0648\\u0646 \\u0627\\u0644\\u063a\\u0644\\u0628\\u0647. \\u0627\\u0644\\u0645\\u0638\\u0644\\u0648\\u0645 \\u0627\\u0645 \\u0627\\u0644\\u0638\\u0627\\u0644\\u0645', u'in_reply_to_status_id': None, u'id': 633029230092255232, u'favorite_count': 8, u'source': u'<a href=\"http://twitter.com/download/android\" rel=\"nofollow\">Twitter for Android</a>', u'retweeted': False, u'coordinates': None, u'entities': {u'user_mentions': [], u'symbols': [], u'trends': [], u'hashtags': [], u'urls': []}, u'in_reply_to_screen_name': None, u'id_str': u'633029230092255232', u'retweet_count': 5, u'in_reply_to_user_id': None, u'favorited': False, u'user': {u'follow_request_sent': None, u'profile_use_background_image': True, u'default_profile_image': False, u'id': 3093418073, u'verified': False, u'profile_image_url_https': u'https://pbs.twimg.com/profile_images/618896700833427456/NIeajscG_normal.jpg', u'profile_sidebar_fill_color': u'DDEEF6', u'profile_text_color': u'333333', u'followers_count': 4226, u'profile_sidebar_border_color': u'C0DEED', u'id_str': u'3093418073', u'profile_background_color': u'C0DEED', u'listed_count': 12, u'profile_background_image_url_https': u'https://abs.twimg.com/images/themes/theme1/bg.png', u'utc_offset': None, u'statuses_count': 6544, u'description': u'\\u200f\\u200f\\u200f\\u0625\\u0635\\u0628\\u0650\\u0631 \\u0641\\u0645\\u0627 \\u0627\\u0644\\u0635\\u0628\\u0631 \\u0627\\u0644\\u062c\\u0645\\u064a\\u0644 \\u0628\\u0636\\u0627\\u0626\\u0639\\u064d        \\n\\u0644\\u0644\\u0640\\u0635\\u0640\\u0628\\u0631\\u0650 \\u0623\\u062c\\u0640\\u0631\\u064c \\u0645\\u0640\\u062b\\u0640\\u0644 \\u063a\\u0640\\u064a\\u062b\\u064d \\u0642\\u062f \\u0647\\u064e\\u0640\\u0645\\u0627\\n\\n\\u0647\\u0630\\u064a \\u0627\\u0644\\u062d\\u064a\\u0627\\u0629 \\u0648\\u0625\\u0646 \\u062a\\u0643\\u062f\\u0651\\u0631 \\u0635\\u0641\\u0648\\u064f\\u0647\\u0627\\n\\u0628\\u0627\\u0644\\u0644\\u0640\\u06c1 \\u062a\\u0640\\u063a\\u0640\\u062f\\u0648 \\u062c\\u0640\\u0640\\u0646\\u0640\\u0640\\u0629\\u064b \\u0648 \\u062a\\u0640\\u0646\\u0640\\u0639\\u0651\\u064f\\u0640\\u0640\\u0645\\u0640\\u0627', u'friends_count': 543, u'location': u'', u'profile_link_color': u'0084B4', u'profile_image_url': u'http://pbs.twimg.com/profile_images/618896700833427456/NIeajscG_normal.jpg', u'following': None, u'geo_enabled': False, u'profile_banner_url': u'https://pbs.twimg.com/profile_banners/3093418073/1435352587', u'profile_background_image_url': u'http://abs.twimg.com/images/themes/theme1/bg.png', u'name': u'\\u0627\\u0644\\u064a\\u0645\\u0646 \\u0641\\u064a \\u0642\\u0644\\u0648\\u0628\\u0646\\u0627', u'lang': u'ar', u'profile_background_tile': False, u'favourites_count': 1041, u'screen_name': u'Gggb769Gggb', u'notifications': None, u'url': None, u'created_at': u'Tue Mar 17 21:15:54 +0000 2015', u'contributors_enabled': False, u'time_zone': None, u'protected': False, u'default_profile': True, u'is_translator': False}, u'geo': None, u'in_reply_to_user_id_str': None, u'possibly_sensitive': False, u'lang': u'ar', u'created_at': u'Sun Aug 16 21:35:04 +0000 2015', u'filter_level': u'low', u'in_reply_to_status_id_str': None, u'place': None}, u'user': {u'follow_request_sent': None, u'profile_use_background_image': True, u'default_profile_image': True, u'id': 3140584378, u'verified': False, u'profile_image_url_https': u'https://abs.twimg.com/sticky/default_profile_images/default_profile_1_normal.png', u'profile_sidebar_fill_color': u'DDEEF6', u'profile_text_color': u'333333', u'followers_count': 38, u'profile_sidebar_border_color': u'C0DEED', u'id_str': u'3140584378', u'profile_background_color': u'C0DEED', u'listed_count': 0, u'profile_background_image_url_https': u'https://abs.twimg.com/images/themes/theme1/bg.png', u'utc_offset': None, u'statuses_count': 542, u'description': None, u'friends_count': 381, u'location': u'', u'profile_link_color': u'0084B4', u'profile_image_url': u'http://abs.twimg.com/sticky/default_profile_images/default_profile_1_normal.png', u'following': None, u'geo_enabled': False, u'profile_background_image_url': u'http://abs.twimg.com/images/themes/theme1/bg.png', u'name': u'\\u0639\\u0627\\u0635\\u0645 \\u0627\\u0644\\u0645\\u0627\\u0648\\u0631\\u064a', u'lang': u'ar', u'profile_background_tile': False, u'favourites_count': 180, u'screen_name': u'HH5mC8UIyyEmy5B', u'notifications': None, u'url': None, u'created_at': u'Mon Apr 06 14:14:06 +0000 2015', u'contributors_enabled': False, u'time_zone': None, u'protected': False, u'default_profile': True, u'is_translator': False}, u'geo': None, u'in_reply_to_user_id_str': None, u'possibly_sensitive': False, u'lang': u'ar', u'created_at': u'Sun Aug 16 21:41:13 +0000 2015', u'filter_level': u'low', u'in_reply_to_status_id_str': None, u'place': None}\n"
     ]
    }
   ],
   "source": [
    "import json\n",
    "\n",
    "# Open the input file\n",
    "input_file = open('tweets.json','r')\n",
    "\n",
    "\n",
    "# Load the first few lines\n",
    "line_count = 10\n",
    "for line in input_file:\n",
    "    tweet = json.loads(line)\n",
    "    print(tweet)\n",
    "    line_count -= 1\n",
    "    if line_count < 0:\n",
    "        break\n",
    "    \n",
    "\n",
    "# Close the input file\n",
    "input_file.close()"
   ]
  },
  {
   "cell_type": "markdown",
   "metadata": {},
   "source": [
    "Each entry in `tweets.json`, i.e., each `tweet`, corresponds to a dictionary that contains lots of information about the tweet, the user, the activity related to the tweet (i.e., if it was retweeted or not), the timestamp of the tweet, entities mentioned in the tweet, hashtags used, etc.\n",
    "\n",
    "You can treat the `tweet` variable from above as a dicitonary and use the `.keys()` command to see the fields associated with the dictionary."
   ]
  },
  {
   "cell_type": "code",
   "execution_count": 2,
   "metadata": {},
   "outputs": [
    {
     "name": "stdout",
     "output_type": "stream",
     "text": [
      "contributors\n",
      "truncated\n",
      "text\n",
      "in_reply_to_status_id\n",
      "id\n",
      "favorite_count\n",
      "source\n",
      "retweeted\n",
      "coordinates\n",
      "timestamp_ms\n",
      "entities\n",
      "in_reply_to_screen_name\n",
      "id_str\n",
      "retweet_count\n",
      "in_reply_to_user_id\n",
      "favorited\n",
      "retweeted_status\n",
      "user\n",
      "geo\n",
      "in_reply_to_user_id_str\n",
      "possibly_sensitive\n",
      "lang\n",
      "created_at\n",
      "filter_level\n",
      "in_reply_to_status_id_str\n",
      "place\n"
     ]
    }
   ],
   "source": [
    "for k in tweet.keys():\n",
    "    print(k)"
   ]
  },
  {
   "cell_type": "markdown",
   "metadata": {},
   "source": [
    "We can select any of the aforemented values of Variable `tweet` by treating it as a dictionary. For example let's select the `text` body of the tweet, the time it was `created_at`, and the `hashtags` it contains.  "
   ]
  },
  {
   "cell_type": "code",
   "execution_count": 3,
   "metadata": {},
   "outputs": [
    {
     "name": "stdout",
     "output_type": "stream",
     "text": [
      "('Tweet body: ', u'RT @Gggb769Gggb: \\u0647\\u0646\\u0627\\u0643 \\u0636\\u0631\\u0628\\u0647 \\u0645\\u0648\\u062c\\u0647  \\u0633\\u062a\\u0643\\u0648\\u0646 \\u0641\\u064a \\u0639\\u0645\\u0642 \\u0627\\u0644\\u062e\\u0644\\u064a\\u062c. \\n\\u0633\\u062a\\u063a\\u064a\\u0631 \\u0645\\u062c\\u0631\\u064a\\u0627\\u062a  \\u0627\\u0644\\u0627\\u062d\\u062f\\u0627\\u062b \\n\\u0645\\u0627\\u0639\\u0644\\u064a\\u0643\\u0645 \\u0633\\u0648\\u0627 \\u0627\\u0644\\u0635\\u0628\\u0631 \\u0648\\u0627\\u0644\\u0627\\u0646\\u062a\\u0635\\u0627\\u0631. \\u0648\\u0627\\u0644\\u0627\\u064a\\u0627\\u0645 \\u0628\\u064a\\u0646\\u0646\\u0627 \\u0644\\u0645\\u0646 \\u0633\\u062a\\u0643\\u0648\\u0646 \\u0627\\u0644\\u063a\\u0644\\u0628\\u0647. \\u2026')\n",
      "('Creation Time:', u'Sun Aug 16 21:41:13 +0000 2015')\n",
      "('Hastags: ', [])\n"
     ]
    }
   ],
   "source": [
    "body = tweet['text']\n",
    "tweet_time  = tweet['created_at']\n",
    "\n",
    "# tweet['entities'] is itself a dictionary with more entries. Hashtags is one of them.\n",
    "htags  = tweet['entities']['hashtags']\n",
    "\n",
    "print('Tweet body: ', body)\n",
    "print('Creation Time:', tweet_time)\n",
    "print('Hastags: ', htags)"
   ]
  },
  {
   "cell_type": "markdown",
   "metadata": {},
   "source": [
    "As you can see this tweet contains no hashtags. The body of the tweet contains several information that is not necesary for our sentiment analysis task. For example, it contains a comma, a reference to a twitter user and a link to an external website. \n",
    "\n",
    "Since this information is not necessary we can remove it. In other words we need to clean our input in order to prepare it for analysis. Next, we show you some basic cleaning operations using **regular expressions**. You can find more information on regular expressions [here](https://medium.com/factory-mind/regex-tutorial-a-simple-cheatsheet-by-examples-649dc1c3f285)."
   ]
  },
  {
   "cell_type": "code",
   "execution_count": 4,
   "metadata": {},
   "outputs": [
    {
     "name": "stdout",
     "output_type": "stream",
     "text": [
      "('Clean tweet body:', u'rt  \\u0647\\u0646\\u0627\\u0643 \\u0636\\u0631\\u0628\\u0647 \\u0645\\u0648\\u062c\\u0647  \\u0633\\u062a\\u0643\\u0648\\u0646 \\u0641\\u064a \\u0639\\u0645\\u0642 \\u0627\\u0644\\u062e\\u0644\\u064a\\u062c. \\n\\u0633\\u062a\\u063a\\u064a\\u0631 \\u0645\\u062c\\u0631\\u064a\\u0627\\u062a  \\u0627\\u0644\\u0627\\u062d\\u062f\\u0627\\u062b \\n\\u0645\\u0627\\u0639\\u0644\\u064a\\u0643\\u0645 \\u0633\\u0648\\u0627 \\u0627\\u0644\\u0635\\u0628\\u0631 \\u0648\\u0627\\u0644\\u0627\\u0646\\u062a\\u0635\\u0627\\u0631. \\u0648\\u0627\\u0644\\u0627\\u064a\\u0627\\u0645 \\u0628\\u064a\\u0646\\u0646\\u0627 \\u0644\\u0645\\u0646 \\u0633\\u062a\\u0643\\u0648\\u0646 \\u0627\\u0644\\u063a\\u0644\\u0628\\u0647. \\u2026')\n"
     ]
    }
   ],
   "source": [
    "# Basic steps for cleaning process.\n",
    "import re\n",
    "# Step 1: Convert tweet to lower case\n",
    "body = body.lower()\n",
    "# Step 2: Find URLs and replace them with an empty string\n",
    "body = re.sub(r'((www\\.[\\S]+)|(https?://[\\S]+))', '', body)\n",
    "# Step 3: Find @<user> mentions and replace them with an empty string\n",
    "body = re.sub(r'@[\\S]+', '', body)\n",
    "\n",
    "print('Clean tweet body:', body)"
   ]
  },
  {
   "cell_type": "markdown",
   "metadata": {},
   "source": [
    "We are providing you with a Python script named `preprocess.py`. The script `preprocess.py` accepts one argument on the command line: a JSON file with tweets (i.e., `tweets.json`). You can run the program like this:\n",
    "\n",
    "`$ python3 preprocess.py tweets.json`\n",
    "\n",
    "**There are some parts specified in this script that you need to implement**. The goal of this script is to clean all the tweets in `tweets.json`. Running `preprocess.py` will generate an output file named `clean_tweets.txt` containing **one string per line** containing a clean tweet. The order of the clean tweets in your output file should follow the order of the lines in the original `tweets.json`. Basically, the first line in `clean_tweets.txt` should correspond to the first raw tweet in `tweets.json`, the second line should correspond to the second tweet, and so on. If you perform any sorting or you put the processed data in a dictionary the order will not be preserved. Once again: **The n-th line of `clean_tweets.txt` (the file you will submit) should be a string that represent the clean version of the n-the line in the `tweets.json` (the input file).**\n",
    "\n",
    "You must provide a line for **every** tweet. If the clean tweet is the empty string then just provide a line with the empty string.\n",
    "\n",
    "If you have implemented everything correctly, the first 6 lines of the generated output should be exactly the same as the next lines:\n",
    "\n",
    "\n",
    "```\n",
    "\n",
    "\n",
    "\n",
    "any shots\n",
    "a cancer may act shy and quiet but will adamantly defend a loved one against outsiders\n",
    "```\n",
    "\n",
    "The first 4 lines will be empty and the last 2 will have the string shown above.\n",
    "\n",
    "Note: This is real-world data, and it can be messy! For example, not all json lines may contain valid tweets (i.e., a text field). Ask for help on Piazza if you get stuck!\n",
    "\n",
    "***What to turn in: The file `clean_tweets.txt` output by `preprocess.py` after you have implemented the missing parts in `preprocess.py`.***"
   ]
  },
  {
   "cell_type": "markdown",
   "metadata": {},
   "source": [
    "# Question 2: Derive the sentiment of each tweet [40 points]\n",
    "\n",
    "For this part, you will compute the sentiment of each clean tweet in `clean_tweets.txt` based on the sentiment scores of the terms in the tweet. The sentiment of a tweet is equivalent to the sum of the sentiment scores for each term in the clean tweet.\n",
    "\n",
    "You are provided with a skeleton file `tweet_sentiment.py` which accepts two arguments on the command line: a *sentiment file* and a tweet file like the one you generated in Question 1. You can run the skeleton program like this:\n",
    "\n",
    "`$ python3 tweet_sentiment.py AFINN-111.txt clean_tweets.txt`\n",
    "\n",
    "The file `AFINN-111.txt` contains a list of pre-computed sentiment scores. Each line in the file contains a word or phrase phollowed by a sentiment score. Each word or phrase that is found in a tweet but not found in `AFINN-111.txt` should be given a sentiment score of 0. See the file `AFINN-README.txt` for more information.\n",
    "\n",
    "To use the data in the `AFINN-111.txt` file, you may find it useful to build a dictionary. Note that the `AFINN-111.txt` file format is tab-delimited, meaning that the term and the score are separated by a tab character. A tab character corresponds to the string \"\\t\". The following snipped of code may be useful:"
   ]
  },
  {
   "cell_type": "code",
   "execution_count": 8,
   "metadata": {},
   "outputs": [
    {
     "ename": "IOError",
     "evalue": "[Errno 2] No such file or directory: '-f'",
     "output_type": "error",
     "traceback": [
      "\u001b[0;31m---------------------------------------------------------------------------\u001b[0m",
      "\u001b[0;31mIOError\u001b[0m                                   Traceback (most recent call last)",
      "\u001b[0;32m<ipython-input-8-527b79a85ea2>\u001b[0m in \u001b[0;36m<module>\u001b[0;34m()\u001b[0m\n\u001b[1;32m      1\u001b[0m \u001b[0;32mimport\u001b[0m \u001b[0msys\u001b[0m\u001b[0;34m\u001b[0m\u001b[0m\n\u001b[0;32m----> 2\u001b[0;31m \u001b[0mafinnfile_name\u001b[0m \u001b[0;34m=\u001b[0m \u001b[0mopen\u001b[0m\u001b[0;34m(\u001b[0m\u001b[0msys\u001b[0m\u001b[0;34m.\u001b[0m\u001b[0margv\u001b[0m\u001b[0;34m[\u001b[0m\u001b[0;36m1\u001b[0m\u001b[0;34m]\u001b[0m\u001b[0;34m)\u001b[0m\u001b[0;34m\u001b[0m\u001b[0m\n\u001b[0m\u001b[1;32m      3\u001b[0m \u001b[0mafinnfile\u001b[0m \u001b[0;34m=\u001b[0m \u001b[0mopen\u001b[0m\u001b[0;34m(\u001b[0m\u001b[0mafinnfile_name\u001b[0m\u001b[0;34m,\u001b[0m \u001b[0;34m'r'\u001b[0m\u001b[0;34m)\u001b[0m\u001b[0;34m\u001b[0m\u001b[0m\n\u001b[1;32m      4\u001b[0m \u001b[0mscores\u001b[0m \u001b[0;34m=\u001b[0m \u001b[0;34m{\u001b[0m\u001b[0;34m}\u001b[0m \u001b[0;31m# initialize an empty dictionary\u001b[0m\u001b[0;34m\u001b[0m\u001b[0m\n\u001b[1;32m      5\u001b[0m \u001b[0;32mfor\u001b[0m \u001b[0mline\u001b[0m \u001b[0;32min\u001b[0m \u001b[0mafinnfile\u001b[0m\u001b[0;34m:\u001b[0m\u001b[0;34m\u001b[0m\u001b[0m\n",
      "\u001b[0;31mIOError\u001b[0m: [Errno 2] No such file or directory: '-f'"
     ]
    }
   ],
   "source": [
    "import sys\n",
    "afinnfile_name = open(sys.argv[1])\n",
    "afinnfile = open(afinnfile_name, 'r')\n",
    "scores = {} # initialize an empty dictionary\n",
    "for line in afinnfile:\n",
    "    term, score = line.split(\"\\t\") # The file is tab-delimited and \"\\t\" means tab character\n",
    "    scores[term] = int(score) # Conver the score to an integer. It was parsed as a string.\n",
    "afinnfile.close()\n",
    "print(scores.items( )) # Print every (term, score) pair in the dictionary"
   ]
  },
  {
   "cell_type": "markdown",
   "metadata": {},
   "source": [
    "Your script should output a file named `sentiment.txt` containing the sentiment of each tweet in the file `clean_tweets.txt`, one numeric sentiment score per line. The first score should correspond to the first tweet, the second score should correspond to the second tweet, and so on. In other words, ** the n-th line of the file you submit should contain only a single number that represents teh score of the n-th tweet in the input file.**\n",
    "\n",
    "After you have implemented everything the first 10 lines of the generated output of your script should be exactly the same as the next lines:\n",
    "\n",
    "```\n",
    "0\n",
    "0\n",
    "0\n",
    "0\n",
    "0\n",
    "6\n",
    "6\n",
    "-10\n",
    "0\n",
    "0\n",
    "```\n",
    "\n",
    "***What to turn in: The file `sentiment.txt` after you have verified that it returns the correct answers***"
   ]
  },
  {
   "cell_type": "markdown",
   "metadata": {},
   "source": [
    "# Question 3: Derive the sentiment of new terms [40 points]\n",
    "\n",
    "In this part you will create a script that computes the sentiment for terms that **do not** appear in the file `AFINN-111.txt`.\n",
    "\n",
    "You can think about this problem as follows: We know wwe can use the sentiment-carrying words in `AFINN-111.txt` to deduce the overall sentiment of a tweet. Once you deduce the sentiment of a tweet, you can work backwards to deduce the sentiment of the non-sentiment carrying words that *do not appear* in `AFINN-111.txt`. For example, if the word *football* always appears in proximity with positive words like *great* and *fun*, then we can deduce that the term *football* itself carried a positive sentiment.\n",
    "\n",
    "You are provided with a skeleton file `term_sentiment.py` which accepts the same two arguments as `tweet_sentiment.py` and can be executed using the following command:\n",
    "\n",
    "`$ python3 term_sentiment.py AFINN-111.txt clean_tweets.txt`\n",
    "\n",
    "Your script should print its output to stdout. Each line of the output should contain a term, followed by a space, followed by a sentiment. That is, each line should be in the format <term:string> <sentiment:float>. For example if you have the pair (\"foo\", 54.2) in Python, it should appear in the output as: `foo 54.2`.\n",
    "\n",
    "*The order of your output does not matter.*\n",
    "\n",
    "***What to turn in: The file `term_sentiment.py` after you have implemented the missing parts.***\n",
    "\n",
    "To grade your submission we will run your script on a file that contains strongly positive and strong negative tweets and verify that the terms in the strongly positive tweets are assigned a higher score than the terms in the negative tweets. Your score need not exactly match any specific solution. "
   ]
  }
 ],
 "metadata": {
  "kernelspec": {
   "display_name": "Python 2",
   "language": "python",
   "name": "python2"
  },
  "language_info": {
   "codemirror_mode": {
    "name": "ipython",
    "version": 2
   },
   "file_extension": ".py",
   "mimetype": "text/x-python",
   "name": "python",
   "nbconvert_exporter": "python",
   "pygments_lexer": "ipython2",
   "version": "2.7.15"
  }
 },
 "nbformat": 4,
 "nbformat_minor": 2
}
